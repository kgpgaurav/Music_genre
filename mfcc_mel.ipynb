{
  "nbformat": 4,
  "nbformat_minor": 0,
  "metadata": {
    "colab": {
      "provenance": [],
      "gpuType": "T4",
      "include_colab_link": true
    },
    "kernelspec": {
      "name": "python3",
      "display_name": "Python 3"
    },
    "language_info": {
      "name": "python"
    },
    "accelerator": "GPU"
  },
  "cells": [
    {
      "cell_type": "markdown",
      "metadata": {
        "id": "view-in-github",
        "colab_type": "text"
      },
      "source": [
        "<a href=\"https://colab.research.google.com/github/kgpgaurav/Music_genre/blob/main/mfcc_mel.ipynb\" target=\"_parent\"><img src=\"https://colab.research.google.com/assets/colab-badge.svg\" alt=\"Open In Colab\"/></a>"
      ]
    },
    {
      "cell_type": "code",
      "source": [
        "from google.colab import drive\n",
        "drive.mount('/content/drive')"
      ],
      "metadata": {
        "colab": {
          "base_uri": "https://localhost:8080/"
        },
        "id": "R5rWopTNm-R2",
        "outputId": "6f21b74d-e1c3-40b7-b6b1-0496c04609c0"
      },
      "execution_count": null,
      "outputs": [
        {
          "output_type": "stream",
          "name": "stdout",
          "text": [
            "Mounted at /content/drive\n"
          ]
        }
      ]
    },
    {
      "cell_type": "code",
      "execution_count": null,
      "metadata": {
        "id": "lFH-OqIxATqK"
      },
      "outputs": [],
      "source": [
        "\n",
        "import os\n",
        "import librosa\n",
        "import matplotlib.pyplot as plt\n",
        "import tensorflow as tf\n",
        "import numpy as np\n",
        "from tensorflow.keras.layers import Conv2D,MaxPool2D,Flatten,Dense,Dropout\n",
        "from tensorflow.keras.optimizers import Adam"
      ]
    },
    {
      "cell_type": "code",
      "source": [
        "#define your folder structure\n",
        "data_dir = \"/content/drive/MyDrive/Train\"\n",
        "classes = ['blues', 'classical','country','disco','hiphop','jazz','metal','pop','reggae','rock']#classes should be in order of folders,\n",
        "#such that we give correct labels to correct data\n"
      ],
      "metadata": {
        "id": "A8ejVfNvAgDN"
      },
      "execution_count": null,
      "outputs": []
    },
    {
      "cell_type": "code",
      "source": [
        "import os\n",
        "import numpy as np\n",
        "import librosa\n",
        "from tensorflow.image import resize\n",
        "from tensorflow.keras.utils import to_categorical\n",
        "\n",
        "# Load and preprocess audio data\n",
        "def load_and_preprocess_data(data_dir, classes, target_shape=(150,150)):\n",
        "    data = []\n",
        "    labels = []\n",
        "\n",
        "    # Check if all class directories exist\n",
        "    for i_class, class_name in enumerate(classes):\n",
        "        class_dir = os.path.join(data_dir, class_name)\n",
        "        if not os.path.exists(class_dir):\n",
        "            print(f\"⚠️ Warning: Directory {class_dir} does not exist! Skipping...\")\n",
        "            continue\n",
        "\n",
        "        print(f\"Processing-- {class_name} (Label {i_class})\")\n",
        "        file_count = 0  # To check if the class has valid files\n",
        "\n",
        "        for filename in os.listdir(class_dir):\n",
        "            if filename.endswith('.wav'):\n",
        "                file_count += 1\n",
        "                file_path = os.path.join(class_dir, filename)\n",
        "\n",
        "                # Load audio file\n",
        "                audio_data, sample_rate = librosa.load(file_path, sr=None)\n",
        "\n",
        "                # Define chunk and overlap durations\n",
        "                chunk_duration = 4\n",
        "                overlap_duration = 2\n",
        "                chunk_samples = chunk_duration * sample_rate\n",
        "                overlap_samples = overlap_duration * sample_rate\n",
        "\n",
        "                # Calculate number of chunks\n",
        "                num_chunks = int(np.ceil((len(audio_data) - chunk_samples) / (chunk_samples - overlap_samples))) + 1\n",
        "                if num_chunks <= 0:\n",
        "                    print(f\"⚠️ Skipping {filename} (too short for chunking)\")\n",
        "                    continue\n",
        "\n",
        "                # Process chunks\n",
        "                for i in range(num_chunks):\n",
        "                    start = i * (chunk_samples - overlap_samples)\n",
        "                    end = start + chunk_samples\n",
        "                    chunk = audio_data[start:end]\n",
        "\n",
        "                    # Extract features\n",
        "                    mfcc = librosa.feature.mfcc(y=chunk, sr=sample_rate, n_mfcc=40)\n",
        "                    mfcc = librosa.util.normalize(mfcc)\n",
        "                    mel_spec = librosa.feature.melspectrogram(y=chunk, sr=sample_rate, n_mels=128, fmax=8000)\n",
        "                    mel_spec_db = librosa.power_to_db(mel_spec, ref=np.max)\n",
        "                    mel_spec_db = librosa.util.normalize(mel_spec_db)\n",
        "\n",
        "                    # Resize and stack features\n",
        "                    mfcc_resized = resize(np.expand_dims(mfcc, axis=-1), target_shape)\n",
        "                    mel_spec_resized = resize(np.expand_dims(mel_spec_db, axis=-1), target_shape)\n",
        "                    combined_features = np.concatenate((mfcc_resized, mel_spec_resized), axis=-1)\n",
        "\n",
        "                    data.append(combined_features)\n",
        "                    labels.append(i_class)\n",
        "\n",
        "        if file_count == 0:\n",
        "            print(f\"⚠️ Warning: No valid WAV files found in {class_dir}\")\n",
        "\n",
        "    # Convert to NumPy arrays\n",
        "    data = np.array(data)\n",
        "    labels = np.array(labels)\n",
        "\n",
        "    # Check unique labels before one-hot encoding\n",
        "    unique_labels = np.unique(labels)\n",
        "    print(f\"✅ Unique labels found: {unique_labels} (Expected: {len(classes)})\")\n",
        "\n",
        "    if len(unique_labels) < len(classes):\n",
        "        print(\"⚠️ Some classes might be missing from the dataset!\")\n",
        "\n",
        "    # One-hot encode labels\n",
        "    labels = to_categorical(labels, num_classes=len(classes))\n",
        "\n",
        "    return data, labels\n",
        "\n",
        "# Run the function\n",
        "data, labels = load_and_preprocess_data(data_dir, classes)\n"
      ],
      "metadata": {
        "id": "kH1QFJIcAxuZ",
        "colab": {
          "base_uri": "https://localhost:8080/"
        },
        "outputId": "23572337-7e67-46f3-fd3d-7d75d230ecff"
      },
      "execution_count": null,
      "outputs": [
        {
          "output_type": "stream",
          "name": "stdout",
          "text": [
            "Processing-- blues (Label 0)\n",
            "Processing-- classical (Label 1)\n",
            "Processing-- country (Label 2)\n",
            "Processing-- disco (Label 3)\n",
            "Processing-- hiphop (Label 4)\n",
            "Processing-- jazz (Label 5)\n",
            "Processing-- metal (Label 6)\n",
            "Processing-- pop (Label 7)\n",
            "Processing-- reggae (Label 8)\n",
            "Processing-- rock (Label 9)\n",
            "✅ Unique labels found: [0 1 2 3 4 5 6 7 8 9] (Expected: 10)\n"
          ]
        }
      ]
    },
    {
      "cell_type": "code",
      "source": [
        "# data,labels = load_and_preprocess_data(data_dir,classes)"
      ],
      "metadata": {
        "id": "2EXx37ToAzGx"
      },
      "execution_count": null,
      "outputs": []
    },
    {
      "cell_type": "code",
      "source": [
        "# from tensorflow.keras.utils import to_categorical\n",
        "# labels = to_categorical(labels,num_classes = len(classes)) # Converting labels to one-hot encoding\n",
        "# labels"
      ],
      "metadata": {
        "id": "d7bN6U3bBAL6"
      },
      "execution_count": null,
      "outputs": []
    },
    {
      "cell_type": "code",
      "source": [
        "from sklearn.model_selection import train_test_split\n",
        "X_train,X_test,Y_train,Y_test = train_test_split(data,labels,test_size=0.2,random_state=42)"
      ],
      "metadata": {
        "id": "jzBmfZReBD5t"
      },
      "execution_count": null,
      "outputs": []
    },
    {
      "cell_type": "code",
      "source": [
        "Y_test.shape"
      ],
      "metadata": {
        "colab": {
          "base_uri": "https://localhost:8080/"
        },
        "id": "IOOSgOtjnphD",
        "outputId": "0080be82-bf6e-4e47-d19d-72021a179993"
      },
      "execution_count": null,
      "outputs": [
        {
          "output_type": "execute_result",
          "data": {
            "text/plain": [
              "(2396, 10)"
            ]
          },
          "metadata": {},
          "execution_count": 8
        }
      ]
    },
    {
      "cell_type": "code",
      "source": [
        "num_classes = len(np.unique(Y_test))\n",
        "print(\"Number of unique classes in Y_test:\", num_classes)"
      ],
      "metadata": {
        "colab": {
          "base_uri": "https://localhost:8080/"
        },
        "id": "zgDDVOUosTAd",
        "outputId": "383f6bd3-3bca-4318-f862-d75a5b1d4087"
      },
      "execution_count": null,
      "outputs": [
        {
          "output_type": "stream",
          "name": "stdout",
          "text": [
            "Number of unique classes in Y_test: 2\n"
          ]
        }
      ]
    },
    {
      "cell_type": "code",
      "source": [
        "true_categories = np.argmax(Y_test,axis=1)\n",
        "true_categories"
      ],
      "metadata": {
        "colab": {
          "base_uri": "https://localhost:8080/"
        },
        "id": "LruJ_81VvP2E",
        "outputId": "2174d013-1f89-474d-9ee2-7e6d812cc934"
      },
      "execution_count": null,
      "outputs": [
        {
          "output_type": "execute_result",
          "data": {
            "text/plain": [
              "array([4, 9, 8, ..., 4, 0, 0])"
            ]
          },
          "metadata": {},
          "execution_count": 10
        }
      ]
    },
    {
      "cell_type": "code",
      "source": [
        "num_unique = len(np.unique(true_categories))\n",
        "num_unique"
      ],
      "metadata": {
        "colab": {
          "base_uri": "https://localhost:8080/"
        },
        "id": "2abbR9TZvdIx",
        "outputId": "b64cdb5f-0b65-4a81-cad7-9bf19383622c"
      },
      "execution_count": null,
      "outputs": [
        {
          "output_type": "execute_result",
          "data": {
            "text/plain": [
              "10"
            ]
          },
          "metadata": {},
          "execution_count": 11
        }
      ]
    },
    {
      "cell_type": "code",
      "source": [
        "model = tf.keras.models.Sequential()"
      ],
      "metadata": {
        "id": "nixPKySVBFbt"
      },
      "execution_count": null,
      "outputs": []
    },
    {
      "cell_type": "code",
      "source": [
        "from keras.models import Sequential\n",
        "from keras.layers import Conv2D, MaxPool2D, Dropout, Flatten, Dense, Input\n",
        "\n",
        "# Define model\n",
        "model = Sequential()\n",
        "\n",
        "# Explicitly define input layer\n",
        "model.add(Input(shape=(150, 150, 2)))  # 2 channels (MFCC & Mel)\n",
        "\n",
        "# First convolutional layer (No need to pass input_shape in Conv2D)\n",
        "model.add(Conv2D(filters=32, kernel_size=3, padding='same', activation='relu'))\n",
        "model.add(Conv2D(filters=32, kernel_size=3, activation='relu'))\n",
        "model.add(MaxPool2D(pool_size=2, strides=2))\n",
        "\n",
        "# Rest of the CNN layers (no changes needed)\n",
        "model.add(Conv2D(filters=64, kernel_size=3, padding='same', activation='relu'))\n",
        "model.add(Conv2D(filters=64, kernel_size=3, activation='relu'))\n",
        "model.add(MaxPool2D(pool_size=2, strides=2))\n",
        "\n",
        "model.add(Conv2D(filters=128, kernel_size=3, padding='same', activation='relu'))\n",
        "model.add(Conv2D(filters=128, kernel_size=3, activation='relu'))\n",
        "model.add(MaxPool2D(pool_size=2, strides=2))\n",
        "\n",
        "model.add(Dropout(0.3))\n",
        "\n",
        "model.add(Conv2D(filters=256, kernel_size=3, padding='same', activation='relu'))\n",
        "model.add(Conv2D(filters=256, kernel_size=3, activation='relu'))\n",
        "model.add(MaxPool2D(pool_size=2, strides=2))\n",
        "\n",
        "model.add(Conv2D(filters=512, kernel_size=3, padding='same', activation='relu'))\n",
        "model.add(Conv2D(filters=512, kernel_size=3, activation='relu'))\n",
        "model.add(MaxPool2D(pool_size=2, strides=2))\n",
        "\n",
        "model.add(Dropout(0.3))\n",
        "model.add(Flatten())\n",
        "model.add(Dense(units=5000, activation='relu'))\n",
        "model.add(Dropout(0.45))\n",
        "\n",
        "# Output layer\n",
        "model.add(Dense(units=len(classes), activation='softmax'))\n",
        "\n",
        "# Print model summary\n",
        "model.summary()\n"
      ],
      "metadata": {
        "colab": {
          "base_uri": "https://localhost:8080/",
          "height": 801
        },
        "id": "fDxtcnwzjjOO",
        "outputId": "d9a519b4-80c6-447b-e522-7e8dd1fa3789"
      },
      "execution_count": null,
      "outputs": [
        {
          "output_type": "display_data",
          "data": {
            "text/plain": [
              "\u001b[1mModel: \"sequential_1\"\u001b[0m\n"
            ],
            "text/html": [
              "<pre style=\"white-space:pre;overflow-x:auto;line-height:normal;font-family:Menlo,'DejaVu Sans Mono',consolas,'Courier New',monospace\"><span style=\"font-weight: bold\">Model: \"sequential_1\"</span>\n",
              "</pre>\n"
            ]
          },
          "metadata": {}
        },
        {
          "output_type": "display_data",
          "data": {
            "text/plain": [
              "┏━━━━━━━━━━━━━━━━━━━━━━━━━━━━━━━━━━━━━━┳━━━━━━━━━━━━━━━━━━━━━━━━━━━━━┳━━━━━━━━━━━━━━━━━┓\n",
              "┃\u001b[1m \u001b[0m\u001b[1mLayer (type)                        \u001b[0m\u001b[1m \u001b[0m┃\u001b[1m \u001b[0m\u001b[1mOutput Shape               \u001b[0m\u001b[1m \u001b[0m┃\u001b[1m \u001b[0m\u001b[1m        Param #\u001b[0m\u001b[1m \u001b[0m┃\n",
              "┡━━━━━━━━━━━━━━━━━━━━━━━━━━━━━━━━━━━━━━╇━━━━━━━━━━━━━━━━━━━━━━━━━━━━━╇━━━━━━━━━━━━━━━━━┩\n",
              "│ conv2d (\u001b[38;5;33mConv2D\u001b[0m)                      │ (\u001b[38;5;45mNone\u001b[0m, \u001b[38;5;34m150\u001b[0m, \u001b[38;5;34m150\u001b[0m, \u001b[38;5;34m32\u001b[0m)        │             \u001b[38;5;34m608\u001b[0m │\n",
              "├──────────────────────────────────────┼─────────────────────────────┼─────────────────┤\n",
              "│ conv2d_1 (\u001b[38;5;33mConv2D\u001b[0m)                    │ (\u001b[38;5;45mNone\u001b[0m, \u001b[38;5;34m148\u001b[0m, \u001b[38;5;34m148\u001b[0m, \u001b[38;5;34m32\u001b[0m)        │           \u001b[38;5;34m9,248\u001b[0m │\n",
              "├──────────────────────────────────────┼─────────────────────────────┼─────────────────┤\n",
              "│ max_pooling2d (\u001b[38;5;33mMaxPooling2D\u001b[0m)         │ (\u001b[38;5;45mNone\u001b[0m, \u001b[38;5;34m74\u001b[0m, \u001b[38;5;34m74\u001b[0m, \u001b[38;5;34m32\u001b[0m)          │               \u001b[38;5;34m0\u001b[0m │\n",
              "├──────────────────────────────────────┼─────────────────────────────┼─────────────────┤\n",
              "│ conv2d_2 (\u001b[38;5;33mConv2D\u001b[0m)                    │ (\u001b[38;5;45mNone\u001b[0m, \u001b[38;5;34m74\u001b[0m, \u001b[38;5;34m74\u001b[0m, \u001b[38;5;34m64\u001b[0m)          │          \u001b[38;5;34m18,496\u001b[0m │\n",
              "├──────────────────────────────────────┼─────────────────────────────┼─────────────────┤\n",
              "│ conv2d_3 (\u001b[38;5;33mConv2D\u001b[0m)                    │ (\u001b[38;5;45mNone\u001b[0m, \u001b[38;5;34m72\u001b[0m, \u001b[38;5;34m72\u001b[0m, \u001b[38;5;34m64\u001b[0m)          │          \u001b[38;5;34m36,928\u001b[0m │\n",
              "├──────────────────────────────────────┼─────────────────────────────┼─────────────────┤\n",
              "│ max_pooling2d_1 (\u001b[38;5;33mMaxPooling2D\u001b[0m)       │ (\u001b[38;5;45mNone\u001b[0m, \u001b[38;5;34m36\u001b[0m, \u001b[38;5;34m36\u001b[0m, \u001b[38;5;34m64\u001b[0m)          │               \u001b[38;5;34m0\u001b[0m │\n",
              "├──────────────────────────────────────┼─────────────────────────────┼─────────────────┤\n",
              "│ conv2d_4 (\u001b[38;5;33mConv2D\u001b[0m)                    │ (\u001b[38;5;45mNone\u001b[0m, \u001b[38;5;34m36\u001b[0m, \u001b[38;5;34m36\u001b[0m, \u001b[38;5;34m128\u001b[0m)         │          \u001b[38;5;34m73,856\u001b[0m │\n",
              "├──────────────────────────────────────┼─────────────────────────────┼─────────────────┤\n",
              "│ conv2d_5 (\u001b[38;5;33mConv2D\u001b[0m)                    │ (\u001b[38;5;45mNone\u001b[0m, \u001b[38;5;34m34\u001b[0m, \u001b[38;5;34m34\u001b[0m, \u001b[38;5;34m128\u001b[0m)         │         \u001b[38;5;34m147,584\u001b[0m │\n",
              "├──────────────────────────────────────┼─────────────────────────────┼─────────────────┤\n",
              "│ max_pooling2d_2 (\u001b[38;5;33mMaxPooling2D\u001b[0m)       │ (\u001b[38;5;45mNone\u001b[0m, \u001b[38;5;34m17\u001b[0m, \u001b[38;5;34m17\u001b[0m, \u001b[38;5;34m128\u001b[0m)         │               \u001b[38;5;34m0\u001b[0m │\n",
              "├──────────────────────────────────────┼─────────────────────────────┼─────────────────┤\n",
              "│ dropout (\u001b[38;5;33mDropout\u001b[0m)                    │ (\u001b[38;5;45mNone\u001b[0m, \u001b[38;5;34m17\u001b[0m, \u001b[38;5;34m17\u001b[0m, \u001b[38;5;34m128\u001b[0m)         │               \u001b[38;5;34m0\u001b[0m │\n",
              "├──────────────────────────────────────┼─────────────────────────────┼─────────────────┤\n",
              "│ conv2d_6 (\u001b[38;5;33mConv2D\u001b[0m)                    │ (\u001b[38;5;45mNone\u001b[0m, \u001b[38;5;34m17\u001b[0m, \u001b[38;5;34m17\u001b[0m, \u001b[38;5;34m256\u001b[0m)         │         \u001b[38;5;34m295,168\u001b[0m │\n",
              "├──────────────────────────────────────┼─────────────────────────────┼─────────────────┤\n",
              "│ conv2d_7 (\u001b[38;5;33mConv2D\u001b[0m)                    │ (\u001b[38;5;45mNone\u001b[0m, \u001b[38;5;34m15\u001b[0m, \u001b[38;5;34m15\u001b[0m, \u001b[38;5;34m256\u001b[0m)         │         \u001b[38;5;34m590,080\u001b[0m │\n",
              "├──────────────────────────────────────┼─────────────────────────────┼─────────────────┤\n",
              "│ max_pooling2d_3 (\u001b[38;5;33mMaxPooling2D\u001b[0m)       │ (\u001b[38;5;45mNone\u001b[0m, \u001b[38;5;34m7\u001b[0m, \u001b[38;5;34m7\u001b[0m, \u001b[38;5;34m256\u001b[0m)           │               \u001b[38;5;34m0\u001b[0m │\n",
              "├──────────────────────────────────────┼─────────────────────────────┼─────────────────┤\n",
              "│ conv2d_8 (\u001b[38;5;33mConv2D\u001b[0m)                    │ (\u001b[38;5;45mNone\u001b[0m, \u001b[38;5;34m7\u001b[0m, \u001b[38;5;34m7\u001b[0m, \u001b[38;5;34m512\u001b[0m)           │       \u001b[38;5;34m1,180,160\u001b[0m │\n",
              "├──────────────────────────────────────┼─────────────────────────────┼─────────────────┤\n",
              "│ conv2d_9 (\u001b[38;5;33mConv2D\u001b[0m)                    │ (\u001b[38;5;45mNone\u001b[0m, \u001b[38;5;34m5\u001b[0m, \u001b[38;5;34m5\u001b[0m, \u001b[38;5;34m512\u001b[0m)           │       \u001b[38;5;34m2,359,808\u001b[0m │\n",
              "├──────────────────────────────────────┼─────────────────────────────┼─────────────────┤\n",
              "│ max_pooling2d_4 (\u001b[38;5;33mMaxPooling2D\u001b[0m)       │ (\u001b[38;5;45mNone\u001b[0m, \u001b[38;5;34m2\u001b[0m, \u001b[38;5;34m2\u001b[0m, \u001b[38;5;34m512\u001b[0m)           │               \u001b[38;5;34m0\u001b[0m │\n",
              "├──────────────────────────────────────┼─────────────────────────────┼─────────────────┤\n",
              "│ dropout_1 (\u001b[38;5;33mDropout\u001b[0m)                  │ (\u001b[38;5;45mNone\u001b[0m, \u001b[38;5;34m2\u001b[0m, \u001b[38;5;34m2\u001b[0m, \u001b[38;5;34m512\u001b[0m)           │               \u001b[38;5;34m0\u001b[0m │\n",
              "├──────────────────────────────────────┼─────────────────────────────┼─────────────────┤\n",
              "│ flatten (\u001b[38;5;33mFlatten\u001b[0m)                    │ (\u001b[38;5;45mNone\u001b[0m, \u001b[38;5;34m2048\u001b[0m)                │               \u001b[38;5;34m0\u001b[0m │\n",
              "├──────────────────────────────────────┼─────────────────────────────┼─────────────────┤\n",
              "│ dense (\u001b[38;5;33mDense\u001b[0m)                        │ (\u001b[38;5;45mNone\u001b[0m, \u001b[38;5;34m5000\u001b[0m)                │      \u001b[38;5;34m10,245,000\u001b[0m │\n",
              "├──────────────────────────────────────┼─────────────────────────────┼─────────────────┤\n",
              "│ dropout_2 (\u001b[38;5;33mDropout\u001b[0m)                  │ (\u001b[38;5;45mNone\u001b[0m, \u001b[38;5;34m5000\u001b[0m)                │               \u001b[38;5;34m0\u001b[0m │\n",
              "├──────────────────────────────────────┼─────────────────────────────┼─────────────────┤\n",
              "│ dense_1 (\u001b[38;5;33mDense\u001b[0m)                      │ (\u001b[38;5;45mNone\u001b[0m, \u001b[38;5;34m10\u001b[0m)                  │          \u001b[38;5;34m50,010\u001b[0m │\n",
              "└──────────────────────────────────────┴─────────────────────────────┴─────────────────┘\n"
            ],
            "text/html": [
              "<pre style=\"white-space:pre;overflow-x:auto;line-height:normal;font-family:Menlo,'DejaVu Sans Mono',consolas,'Courier New',monospace\">┏━━━━━━━━━━━━━━━━━━━━━━━━━━━━━━━━━━━━━━┳━━━━━━━━━━━━━━━━━━━━━━━━━━━━━┳━━━━━━━━━━━━━━━━━┓\n",
              "┃<span style=\"font-weight: bold\"> Layer (type)                         </span>┃<span style=\"font-weight: bold\"> Output Shape                </span>┃<span style=\"font-weight: bold\">         Param # </span>┃\n",
              "┡━━━━━━━━━━━━━━━━━━━━━━━━━━━━━━━━━━━━━━╇━━━━━━━━━━━━━━━━━━━━━━━━━━━━━╇━━━━━━━━━━━━━━━━━┩\n",
              "│ conv2d (<span style=\"color: #0087ff; text-decoration-color: #0087ff\">Conv2D</span>)                      │ (<span style=\"color: #00d7ff; text-decoration-color: #00d7ff\">None</span>, <span style=\"color: #00af00; text-decoration-color: #00af00\">150</span>, <span style=\"color: #00af00; text-decoration-color: #00af00\">150</span>, <span style=\"color: #00af00; text-decoration-color: #00af00\">32</span>)        │             <span style=\"color: #00af00; text-decoration-color: #00af00\">608</span> │\n",
              "├──────────────────────────────────────┼─────────────────────────────┼─────────────────┤\n",
              "│ conv2d_1 (<span style=\"color: #0087ff; text-decoration-color: #0087ff\">Conv2D</span>)                    │ (<span style=\"color: #00d7ff; text-decoration-color: #00d7ff\">None</span>, <span style=\"color: #00af00; text-decoration-color: #00af00\">148</span>, <span style=\"color: #00af00; text-decoration-color: #00af00\">148</span>, <span style=\"color: #00af00; text-decoration-color: #00af00\">32</span>)        │           <span style=\"color: #00af00; text-decoration-color: #00af00\">9,248</span> │\n",
              "├──────────────────────────────────────┼─────────────────────────────┼─────────────────┤\n",
              "│ max_pooling2d (<span style=\"color: #0087ff; text-decoration-color: #0087ff\">MaxPooling2D</span>)         │ (<span style=\"color: #00d7ff; text-decoration-color: #00d7ff\">None</span>, <span style=\"color: #00af00; text-decoration-color: #00af00\">74</span>, <span style=\"color: #00af00; text-decoration-color: #00af00\">74</span>, <span style=\"color: #00af00; text-decoration-color: #00af00\">32</span>)          │               <span style=\"color: #00af00; text-decoration-color: #00af00\">0</span> │\n",
              "├──────────────────────────────────────┼─────────────────────────────┼─────────────────┤\n",
              "│ conv2d_2 (<span style=\"color: #0087ff; text-decoration-color: #0087ff\">Conv2D</span>)                    │ (<span style=\"color: #00d7ff; text-decoration-color: #00d7ff\">None</span>, <span style=\"color: #00af00; text-decoration-color: #00af00\">74</span>, <span style=\"color: #00af00; text-decoration-color: #00af00\">74</span>, <span style=\"color: #00af00; text-decoration-color: #00af00\">64</span>)          │          <span style=\"color: #00af00; text-decoration-color: #00af00\">18,496</span> │\n",
              "├──────────────────────────────────────┼─────────────────────────────┼─────────────────┤\n",
              "│ conv2d_3 (<span style=\"color: #0087ff; text-decoration-color: #0087ff\">Conv2D</span>)                    │ (<span style=\"color: #00d7ff; text-decoration-color: #00d7ff\">None</span>, <span style=\"color: #00af00; text-decoration-color: #00af00\">72</span>, <span style=\"color: #00af00; text-decoration-color: #00af00\">72</span>, <span style=\"color: #00af00; text-decoration-color: #00af00\">64</span>)          │          <span style=\"color: #00af00; text-decoration-color: #00af00\">36,928</span> │\n",
              "├──────────────────────────────────────┼─────────────────────────────┼─────────────────┤\n",
              "│ max_pooling2d_1 (<span style=\"color: #0087ff; text-decoration-color: #0087ff\">MaxPooling2D</span>)       │ (<span style=\"color: #00d7ff; text-decoration-color: #00d7ff\">None</span>, <span style=\"color: #00af00; text-decoration-color: #00af00\">36</span>, <span style=\"color: #00af00; text-decoration-color: #00af00\">36</span>, <span style=\"color: #00af00; text-decoration-color: #00af00\">64</span>)          │               <span style=\"color: #00af00; text-decoration-color: #00af00\">0</span> │\n",
              "├──────────────────────────────────────┼─────────────────────────────┼─────────────────┤\n",
              "│ conv2d_4 (<span style=\"color: #0087ff; text-decoration-color: #0087ff\">Conv2D</span>)                    │ (<span style=\"color: #00d7ff; text-decoration-color: #00d7ff\">None</span>, <span style=\"color: #00af00; text-decoration-color: #00af00\">36</span>, <span style=\"color: #00af00; text-decoration-color: #00af00\">36</span>, <span style=\"color: #00af00; text-decoration-color: #00af00\">128</span>)         │          <span style=\"color: #00af00; text-decoration-color: #00af00\">73,856</span> │\n",
              "├──────────────────────────────────────┼─────────────────────────────┼─────────────────┤\n",
              "│ conv2d_5 (<span style=\"color: #0087ff; text-decoration-color: #0087ff\">Conv2D</span>)                    │ (<span style=\"color: #00d7ff; text-decoration-color: #00d7ff\">None</span>, <span style=\"color: #00af00; text-decoration-color: #00af00\">34</span>, <span style=\"color: #00af00; text-decoration-color: #00af00\">34</span>, <span style=\"color: #00af00; text-decoration-color: #00af00\">128</span>)         │         <span style=\"color: #00af00; text-decoration-color: #00af00\">147,584</span> │\n",
              "├──────────────────────────────────────┼─────────────────────────────┼─────────────────┤\n",
              "│ max_pooling2d_2 (<span style=\"color: #0087ff; text-decoration-color: #0087ff\">MaxPooling2D</span>)       │ (<span style=\"color: #00d7ff; text-decoration-color: #00d7ff\">None</span>, <span style=\"color: #00af00; text-decoration-color: #00af00\">17</span>, <span style=\"color: #00af00; text-decoration-color: #00af00\">17</span>, <span style=\"color: #00af00; text-decoration-color: #00af00\">128</span>)         │               <span style=\"color: #00af00; text-decoration-color: #00af00\">0</span> │\n",
              "├──────────────────────────────────────┼─────────────────────────────┼─────────────────┤\n",
              "│ dropout (<span style=\"color: #0087ff; text-decoration-color: #0087ff\">Dropout</span>)                    │ (<span style=\"color: #00d7ff; text-decoration-color: #00d7ff\">None</span>, <span style=\"color: #00af00; text-decoration-color: #00af00\">17</span>, <span style=\"color: #00af00; text-decoration-color: #00af00\">17</span>, <span style=\"color: #00af00; text-decoration-color: #00af00\">128</span>)         │               <span style=\"color: #00af00; text-decoration-color: #00af00\">0</span> │\n",
              "├──────────────────────────────────────┼─────────────────────────────┼─────────────────┤\n",
              "│ conv2d_6 (<span style=\"color: #0087ff; text-decoration-color: #0087ff\">Conv2D</span>)                    │ (<span style=\"color: #00d7ff; text-decoration-color: #00d7ff\">None</span>, <span style=\"color: #00af00; text-decoration-color: #00af00\">17</span>, <span style=\"color: #00af00; text-decoration-color: #00af00\">17</span>, <span style=\"color: #00af00; text-decoration-color: #00af00\">256</span>)         │         <span style=\"color: #00af00; text-decoration-color: #00af00\">295,168</span> │\n",
              "├──────────────────────────────────────┼─────────────────────────────┼─────────────────┤\n",
              "│ conv2d_7 (<span style=\"color: #0087ff; text-decoration-color: #0087ff\">Conv2D</span>)                    │ (<span style=\"color: #00d7ff; text-decoration-color: #00d7ff\">None</span>, <span style=\"color: #00af00; text-decoration-color: #00af00\">15</span>, <span style=\"color: #00af00; text-decoration-color: #00af00\">15</span>, <span style=\"color: #00af00; text-decoration-color: #00af00\">256</span>)         │         <span style=\"color: #00af00; text-decoration-color: #00af00\">590,080</span> │\n",
              "├──────────────────────────────────────┼─────────────────────────────┼─────────────────┤\n",
              "│ max_pooling2d_3 (<span style=\"color: #0087ff; text-decoration-color: #0087ff\">MaxPooling2D</span>)       │ (<span style=\"color: #00d7ff; text-decoration-color: #00d7ff\">None</span>, <span style=\"color: #00af00; text-decoration-color: #00af00\">7</span>, <span style=\"color: #00af00; text-decoration-color: #00af00\">7</span>, <span style=\"color: #00af00; text-decoration-color: #00af00\">256</span>)           │               <span style=\"color: #00af00; text-decoration-color: #00af00\">0</span> │\n",
              "├──────────────────────────────────────┼─────────────────────────────┼─────────────────┤\n",
              "│ conv2d_8 (<span style=\"color: #0087ff; text-decoration-color: #0087ff\">Conv2D</span>)                    │ (<span style=\"color: #00d7ff; text-decoration-color: #00d7ff\">None</span>, <span style=\"color: #00af00; text-decoration-color: #00af00\">7</span>, <span style=\"color: #00af00; text-decoration-color: #00af00\">7</span>, <span style=\"color: #00af00; text-decoration-color: #00af00\">512</span>)           │       <span style=\"color: #00af00; text-decoration-color: #00af00\">1,180,160</span> │\n",
              "├──────────────────────────────────────┼─────────────────────────────┼─────────────────┤\n",
              "│ conv2d_9 (<span style=\"color: #0087ff; text-decoration-color: #0087ff\">Conv2D</span>)                    │ (<span style=\"color: #00d7ff; text-decoration-color: #00d7ff\">None</span>, <span style=\"color: #00af00; text-decoration-color: #00af00\">5</span>, <span style=\"color: #00af00; text-decoration-color: #00af00\">5</span>, <span style=\"color: #00af00; text-decoration-color: #00af00\">512</span>)           │       <span style=\"color: #00af00; text-decoration-color: #00af00\">2,359,808</span> │\n",
              "├──────────────────────────────────────┼─────────────────────────────┼─────────────────┤\n",
              "│ max_pooling2d_4 (<span style=\"color: #0087ff; text-decoration-color: #0087ff\">MaxPooling2D</span>)       │ (<span style=\"color: #00d7ff; text-decoration-color: #00d7ff\">None</span>, <span style=\"color: #00af00; text-decoration-color: #00af00\">2</span>, <span style=\"color: #00af00; text-decoration-color: #00af00\">2</span>, <span style=\"color: #00af00; text-decoration-color: #00af00\">512</span>)           │               <span style=\"color: #00af00; text-decoration-color: #00af00\">0</span> │\n",
              "├──────────────────────────────────────┼─────────────────────────────┼─────────────────┤\n",
              "│ dropout_1 (<span style=\"color: #0087ff; text-decoration-color: #0087ff\">Dropout</span>)                  │ (<span style=\"color: #00d7ff; text-decoration-color: #00d7ff\">None</span>, <span style=\"color: #00af00; text-decoration-color: #00af00\">2</span>, <span style=\"color: #00af00; text-decoration-color: #00af00\">2</span>, <span style=\"color: #00af00; text-decoration-color: #00af00\">512</span>)           │               <span style=\"color: #00af00; text-decoration-color: #00af00\">0</span> │\n",
              "├──────────────────────────────────────┼─────────────────────────────┼─────────────────┤\n",
              "│ flatten (<span style=\"color: #0087ff; text-decoration-color: #0087ff\">Flatten</span>)                    │ (<span style=\"color: #00d7ff; text-decoration-color: #00d7ff\">None</span>, <span style=\"color: #00af00; text-decoration-color: #00af00\">2048</span>)                │               <span style=\"color: #00af00; text-decoration-color: #00af00\">0</span> │\n",
              "├──────────────────────────────────────┼─────────────────────────────┼─────────────────┤\n",
              "│ dense (<span style=\"color: #0087ff; text-decoration-color: #0087ff\">Dense</span>)                        │ (<span style=\"color: #00d7ff; text-decoration-color: #00d7ff\">None</span>, <span style=\"color: #00af00; text-decoration-color: #00af00\">5000</span>)                │      <span style=\"color: #00af00; text-decoration-color: #00af00\">10,245,000</span> │\n",
              "├──────────────────────────────────────┼─────────────────────────────┼─────────────────┤\n",
              "│ dropout_2 (<span style=\"color: #0087ff; text-decoration-color: #0087ff\">Dropout</span>)                  │ (<span style=\"color: #00d7ff; text-decoration-color: #00d7ff\">None</span>, <span style=\"color: #00af00; text-decoration-color: #00af00\">5000</span>)                │               <span style=\"color: #00af00; text-decoration-color: #00af00\">0</span> │\n",
              "├──────────────────────────────────────┼─────────────────────────────┼─────────────────┤\n",
              "│ dense_1 (<span style=\"color: #0087ff; text-decoration-color: #0087ff\">Dense</span>)                      │ (<span style=\"color: #00d7ff; text-decoration-color: #00d7ff\">None</span>, <span style=\"color: #00af00; text-decoration-color: #00af00\">10</span>)                  │          <span style=\"color: #00af00; text-decoration-color: #00af00\">50,010</span> │\n",
              "└──────────────────────────────────────┴─────────────────────────────┴─────────────────┘\n",
              "</pre>\n"
            ]
          },
          "metadata": {}
        },
        {
          "output_type": "display_data",
          "data": {
            "text/plain": [
              "\u001b[1m Total params: \u001b[0m\u001b[38;5;34m15,006,946\u001b[0m (57.25 MB)\n"
            ],
            "text/html": [
              "<pre style=\"white-space:pre;overflow-x:auto;line-height:normal;font-family:Menlo,'DejaVu Sans Mono',consolas,'Courier New',monospace\"><span style=\"font-weight: bold\"> Total params: </span><span style=\"color: #00af00; text-decoration-color: #00af00\">15,006,946</span> (57.25 MB)\n",
              "</pre>\n"
            ]
          },
          "metadata": {}
        },
        {
          "output_type": "display_data",
          "data": {
            "text/plain": [
              "\u001b[1m Trainable params: \u001b[0m\u001b[38;5;34m15,006,946\u001b[0m (57.25 MB)\n"
            ],
            "text/html": [
              "<pre style=\"white-space:pre;overflow-x:auto;line-height:normal;font-family:Menlo,'DejaVu Sans Mono',consolas,'Courier New',monospace\"><span style=\"font-weight: bold\"> Trainable params: </span><span style=\"color: #00af00; text-decoration-color: #00af00\">15,006,946</span> (57.25 MB)\n",
              "</pre>\n"
            ]
          },
          "metadata": {}
        },
        {
          "output_type": "display_data",
          "data": {
            "text/plain": [
              "\u001b[1m Non-trainable params: \u001b[0m\u001b[38;5;34m0\u001b[0m (0.00 B)\n"
            ],
            "text/html": [
              "<pre style=\"white-space:pre;overflow-x:auto;line-height:normal;font-family:Menlo,'DejaVu Sans Mono',consolas,'Courier New',monospace\"><span style=\"font-weight: bold\"> Non-trainable params: </span><span style=\"color: #00af00; text-decoration-color: #00af00\">0</span> (0.00 B)\n",
              "</pre>\n"
            ]
          },
          "metadata": {}
        }
      ]
    },
    {
      "cell_type": "code",
      "source": [
        "# from keras.models import Sequential\n",
        "# from keras.layers import Conv2D, MaxPool2D, Dropout, Flatten, Dense, Input, BatchNormalization, Activation\n",
        "\n",
        "# # Define model\n",
        "# model = Sequential()\n",
        "\n",
        "# # Explicitly define input layer\n",
        "# model.add(Input(shape=(150, 150, 2)))  # 2 channels (MFCC & Mel)\n",
        "\n",
        "# # # First convolutional layer (No need to pass input_shape in Conv2D)\n",
        "# # model.add(Conv2D(filters=32, kernel_size=3, padding='same', activation='relu'))\n",
        "# # model.add(Conv2D(filters=32, kernel_size=3, activation='relu'))\n",
        "# # model.add(MaxPool2D(pool_size=2, strides=2))\n",
        "\n",
        "# # # Rest of the CNN layers (no changes needed)\n",
        "# # model.add(Conv2D(filters=64, kernel_size=3, padding='same', activation='relu'))\n",
        "# # model.add(Conv2D(filters=64, kernel_size=3, activation='relu'))\n",
        "# # model.add(MaxPool2D(pool_size=2, strides=2))\n",
        "\n",
        "# # model.add(Conv2D(filters=128, kernel_size=3, padding='same', activation='relu'))\n",
        "# # model.add(Conv2D(filters=128, kernel_size=3, activation='relu'))\n",
        "# # model.add(MaxPool2D(pool_size=2, strides=2))\n",
        "\n",
        "# # model.add(Dropout(0.3))\n",
        "\n",
        "# # model.add(Conv2D(filters=256, kernel_size=3, padding='same', activation='relu'))\n",
        "# # model.add(Conv2D(filters=256, kernel_size=3, activation='relu'))\n",
        "# # model.add(MaxPool2D(pool_size=2, strides=2))\n",
        "\n",
        "# # model.add(Conv2D(filters=512, kernel_size=3, padding='same', activation='relu'))\n",
        "# # model.add(Conv2D(filters=512, kernel_size=3, activation='relu'))\n",
        "# # model.add(MaxPool2D(pool_size=2, strides=2))\n",
        "\n",
        "# # model.add(Dropout(0.3))\n",
        "# # model.add(Flatten())\n",
        "# # model.add(Dense(units=3000, activation='relu'))\n",
        "# # model.add(Dropout(0.45))\n",
        "\n",
        "# # # Output layer\n",
        "# # model.add(Dense(units=len(classes), activation='softmax'))\n",
        "\n",
        "# # First convolutional layer\n",
        "# model.add(Conv2D(filters=32, kernel_size=3, padding='same', use_bias=False))\n",
        "# model.add(BatchNormalization())\n",
        "# model.add(Activation('relu'))\n",
        "# model.add(Conv2D(filters=32, kernel_size=3, use_bias=False))\n",
        "# model.add(BatchNormalization())\n",
        "# model.add(Activation('relu'))\n",
        "# model.add(MaxPool2D(pool_size=2, strides=2))\n",
        "\n",
        "# # Rest of the CNN layers with BatchNorm\n",
        "# model.add(Conv2D(filters=64, kernel_size=3, padding='same', use_bias=False))\n",
        "# model.add(BatchNormalization())\n",
        "# model.add(Activation('relu'))\n",
        "# model.add(Conv2D(filters=64, kernel_size=3, use_bias=False))\n",
        "# model.add(BatchNormalization())\n",
        "# model.add(Activation('relu'))\n",
        "# model.add(MaxPool2D(pool_size=2, strides=2))\n",
        "\n",
        "# model.add(Conv2D(filters=128, kernel_size=3, padding='same', use_bias=False))\n",
        "# model.add(BatchNormalization())\n",
        "# model.add(Activation('relu'))\n",
        "# model.add(Conv2D(filters=128, kernel_size=3, use_bias=False))\n",
        "# model.add(BatchNormalization())\n",
        "# model.add(Activation('relu'))\n",
        "# model.add(MaxPool2D(pool_size=2, strides=2))\n",
        "\n",
        "# model.add(Dropout(0.4))\n",
        "\n",
        "# model.add(Conv2D(filters=256, kernel_size=3, padding='same', use_bias=False))\n",
        "# model.add(BatchNormalization())\n",
        "# model.add(Activation('relu'))\n",
        "# model.add(Conv2D(filters=256, kernel_size=3, use_bias=False))\n",
        "# model.add(BatchNormalization())\n",
        "# model.add(Activation('relu'))\n",
        "# model.add(MaxPool2D(pool_size=2, strides=2))\n",
        "\n",
        "# model.add(Conv2D(filters=512, kernel_size=3, padding='same', use_bias=False))\n",
        "# model.add(BatchNormalization())\n",
        "# model.add(Activation('relu'))\n",
        "# model.add(Conv2D(filters=512, kernel_size=3, use_bias=False))\n",
        "# model.add(BatchNormalization())\n",
        "# model.add(Activation('relu'))\n",
        "# model.add(MaxPool2D(pool_size=2, strides=2))\n",
        "\n",
        "# model.add(Dropout(0.4))\n",
        "# model.add(Flatten())\n",
        "\n",
        "# # Fully Connected Layer with BatchNorm\n",
        "# model.add(Dense(units=3000, use_bias=False))\n",
        "# model.add(BatchNormalization())\n",
        "# model.add(Activation('relu'))\n",
        "# model.add(Dropout(0.5))\n",
        "\n",
        "# # Output layer\n",
        "# model.add(Dense(units=len(classes), activation='softmax'))\n",
        "\n",
        "# # Print model summary\n",
        "# model.summary()\n"
      ],
      "metadata": {
        "id": "Hi-aNm-hBGT1"
      },
      "execution_count": null,
      "outputs": []
    },
    {
      "cell_type": "code",
      "source": [
        "print(X_train.shape)\n",
        "print(X_test.shape)\n",
        "print(Y_test.shape)"
      ],
      "metadata": {
        "colab": {
          "base_uri": "https://localhost:8080/"
        },
        "id": "LPJa_o9CNzB4",
        "outputId": "a86fad97-ab76-49f0-dea6-f4d22c30faf3"
      },
      "execution_count": null,
      "outputs": [
        {
          "output_type": "stream",
          "name": "stdout",
          "text": [
            "(9583, 150, 150, 2)\n",
            "(2396, 150, 150, 2)\n",
            "(2396, 10)\n"
          ]
        }
      ]
    },
    {
      "cell_type": "code",
      "source": [
        "# true_categories = np.argmax(Y_test,axis=1)\n",
        "# true_categories"
      ],
      "metadata": {
        "id": "aFKbrolTOANf"
      },
      "execution_count": null,
      "outputs": []
    },
    {
      "cell_type": "code",
      "source": [
        "#Compile the model\n",
        "model.compile(optimizer=Adam(learning_rate=0.0001),loss='categorical_crossentropy',metrics=['accuracy'])"
      ],
      "metadata": {
        "id": "WlDOjQMFBOM0"
      },
      "execution_count": null,
      "outputs": []
    },
    {
      "cell_type": "code",
      "source": [
        "#Training Model\n",
        "training_history = model.fit(X_train,Y_train,epochs=20,batch_size=16,validation_data=(X_test,Y_test))"
      ],
      "metadata": {
        "id": "gGKlNny0IzWH",
        "colab": {
          "base_uri": "https://localhost:8080/"
        },
        "outputId": "d5c016ec-6479-49a8-a16c-a679057e2b42"
      },
      "execution_count": null,
      "outputs": [
        {
          "output_type": "stream",
          "name": "stdout",
          "text": [
            "Epoch 1/20\n",
            "\u001b[1m599/599\u001b[0m \u001b[32m━━━━━━━━━━━━━━━━━━━━\u001b[0m\u001b[37m\u001b[0m \u001b[1m54s\u001b[0m 67ms/step - accuracy: 0.1860 - loss: 2.1332 - val_accuracy: 0.4808 - val_loss: 1.4068\n",
            "Epoch 2/20\n",
            "\u001b[1m599/599\u001b[0m \u001b[32m━━━━━━━━━━━━━━━━━━━━\u001b[0m\u001b[37m\u001b[0m \u001b[1m60s\u001b[0m 48ms/step - accuracy: 0.4870 - loss: 1.3830 - val_accuracy: 0.5438 - val_loss: 1.2500\n",
            "Epoch 3/20\n",
            "\u001b[1m599/599\u001b[0m \u001b[32m━━━━━━━━━━━━━━━━━━━━\u001b[0m\u001b[37m\u001b[0m \u001b[1m41s\u001b[0m 47ms/step - accuracy: 0.5834 - loss: 1.1857 - val_accuracy: 0.6361 - val_loss: 1.0318\n",
            "Epoch 4/20\n",
            "\u001b[1m599/599\u001b[0m \u001b[32m━━━━━━━━━━━━━━━━━━━━\u001b[0m\u001b[37m\u001b[0m \u001b[1m28s\u001b[0m 47ms/step - accuracy: 0.6570 - loss: 0.9796 - val_accuracy: 0.7008 - val_loss: 0.8922\n",
            "Epoch 5/20\n",
            "\u001b[1m599/599\u001b[0m \u001b[32m━━━━━━━━━━━━━━━━━━━━\u001b[0m\u001b[37m\u001b[0m \u001b[1m41s\u001b[0m 47ms/step - accuracy: 0.7280 - loss: 0.8014 - val_accuracy: 0.7295 - val_loss: 0.7968\n",
            "Epoch 6/20\n",
            "\u001b[1m599/599\u001b[0m \u001b[32m━━━━━━━━━━━━━━━━━━━━\u001b[0m\u001b[37m\u001b[0m \u001b[1m41s\u001b[0m 48ms/step - accuracy: 0.7651 - loss: 0.6832 - val_accuracy: 0.7099 - val_loss: 0.8484\n",
            "Epoch 7/20\n",
            "\u001b[1m599/599\u001b[0m \u001b[32m━━━━━━━━━━━━━━━━━━━━\u001b[0m\u001b[37m\u001b[0m \u001b[1m41s\u001b[0m 47ms/step - accuracy: 0.8063 - loss: 0.5632 - val_accuracy: 0.7579 - val_loss: 0.7305\n",
            "Epoch 8/20\n",
            "\u001b[1m599/599\u001b[0m \u001b[32m━━━━━━━━━━━━━━━━━━━━\u001b[0m\u001b[37m\u001b[0m \u001b[1m28s\u001b[0m 47ms/step - accuracy: 0.8361 - loss: 0.4871 - val_accuracy: 0.8247 - val_loss: 0.5434\n",
            "Epoch 9/20\n",
            "\u001b[1m599/599\u001b[0m \u001b[32m━━━━━━━━━━━━━━━━━━━━\u001b[0m\u001b[37m\u001b[0m \u001b[1m41s\u001b[0m 47ms/step - accuracy: 0.8670 - loss: 0.3876 - val_accuracy: 0.8243 - val_loss: 0.4974\n",
            "Epoch 10/20\n",
            "\u001b[1m599/599\u001b[0m \u001b[32m━━━━━━━━━━━━━━━━━━━━\u001b[0m\u001b[37m\u001b[0m \u001b[1m41s\u001b[0m 48ms/step - accuracy: 0.8850 - loss: 0.3385 - val_accuracy: 0.8001 - val_loss: 0.6449\n",
            "Epoch 11/20\n",
            "\u001b[1m599/599\u001b[0m \u001b[32m━━━━━━━━━━━━━━━━━━━━\u001b[0m\u001b[37m\u001b[0m \u001b[1m41s\u001b[0m 47ms/step - accuracy: 0.8988 - loss: 0.2833 - val_accuracy: 0.8510 - val_loss: 0.4455\n",
            "Epoch 12/20\n",
            "\u001b[1m599/599\u001b[0m \u001b[32m━━━━━━━━━━━━━━━━━━━━\u001b[0m\u001b[37m\u001b[0m \u001b[1m29s\u001b[0m 48ms/step - accuracy: 0.9265 - loss: 0.2153 - val_accuracy: 0.8681 - val_loss: 0.4062\n",
            "Epoch 13/20\n",
            "\u001b[1m599/599\u001b[0m \u001b[32m━━━━━━━━━━━━━━━━━━━━\u001b[0m\u001b[37m\u001b[0m \u001b[1m41s\u001b[0m 48ms/step - accuracy: 0.9414 - loss: 0.1798 - val_accuracy: 0.8481 - val_loss: 0.4333\n",
            "Epoch 14/20\n",
            "\u001b[1m599/599\u001b[0m \u001b[32m━━━━━━━━━━━━━━━━━━━━\u001b[0m\u001b[37m\u001b[0m \u001b[1m29s\u001b[0m 49ms/step - accuracy: 0.9463 - loss: 0.1614 - val_accuracy: 0.8606 - val_loss: 0.4548\n",
            "Epoch 15/20\n",
            "\u001b[1m599/599\u001b[0m \u001b[32m━━━━━━━━━━━━━━━━━━━━\u001b[0m\u001b[37m\u001b[0m \u001b[1m41s\u001b[0m 48ms/step - accuracy: 0.9581 - loss: 0.1243 - val_accuracy: 0.8907 - val_loss: 0.3321\n",
            "Epoch 16/20\n",
            "\u001b[1m599/599\u001b[0m \u001b[32m━━━━━━━━━━━━━━━━━━━━\u001b[0m\u001b[37m\u001b[0m \u001b[1m41s\u001b[0m 47ms/step - accuracy: 0.9632 - loss: 0.1081 - val_accuracy: 0.8982 - val_loss: 0.3276\n",
            "Epoch 17/20\n",
            "\u001b[1m599/599\u001b[0m \u001b[32m━━━━━━━━━━━━━━━━━━━━\u001b[0m\u001b[37m\u001b[0m \u001b[1m41s\u001b[0m 47ms/step - accuracy: 0.9717 - loss: 0.0812 - val_accuracy: 0.8790 - val_loss: 0.3926\n",
            "Epoch 18/20\n",
            "\u001b[1m599/599\u001b[0m \u001b[32m━━━━━━━━━━━━━━━━━━━━\u001b[0m\u001b[37m\u001b[0m \u001b[1m42s\u001b[0m 48ms/step - accuracy: 0.9739 - loss: 0.0719 - val_accuracy: 0.8798 - val_loss: 0.3890\n",
            "Epoch 19/20\n",
            "\u001b[1m599/599\u001b[0m \u001b[32m━━━━━━━━━━━━━━━━━━━━\u001b[0m\u001b[37m\u001b[0m \u001b[1m40s\u001b[0m 47ms/step - accuracy: 0.9711 - loss: 0.0849 - val_accuracy: 0.9086 - val_loss: 0.3389\n",
            "Epoch 20/20\n",
            "\u001b[1m599/599\u001b[0m \u001b[32m━━━━━━━━━━━━━━━━━━━━\u001b[0m\u001b[37m\u001b[0m \u001b[1m42s\u001b[0m 48ms/step - accuracy: 0.9778 - loss: 0.0638 - val_accuracy: 0.8923 - val_loss: 0.3898\n"
          ]
        }
      ]
    },
    {
      "cell_type": "code",
      "source": [
        "# Evaluate the model\n",
        "test_loss, test_acc = model.evaluate(X_test, Y_test)\n",
        "print(f\"Test Accuracy: {test_acc * 100:.2f}%\")\n",
        "print(f\"Test Loss: {test_loss * 100:.2f}%\")"
      ],
      "metadata": {
        "colab": {
          "base_uri": "https://localhost:8080/"
        },
        "id": "vSH1KUfO6M1d",
        "outputId": "c9bc0ce3-3d68-4c2c-f52a-05728824baf7"
      },
      "execution_count": null,
      "outputs": [
        {
          "output_type": "stream",
          "name": "stdout",
          "text": [
            "\u001b[1m75/75\u001b[0m \u001b[32m━━━━━━━━━━━━━━━━━━━━\u001b[0m\u001b[37m\u001b[0m \u001b[1m7s\u001b[0m 56ms/step - accuracy: 0.8963 - loss: 0.3571\n",
            "Test Accuracy: 89.23%\n",
            "Test Loss: 38.98%\n"
          ]
        }
      ]
    },
    {
      "cell_type": "code",
      "source": [
        "X_test.shape"
      ],
      "metadata": {
        "id": "lslhpBS7-43W",
        "colab": {
          "base_uri": "https://localhost:8080/"
        },
        "outputId": "513a7e92-8ab4-4169-fe27-8e486d0aff93"
      },
      "execution_count": null,
      "outputs": [
        {
          "output_type": "execute_result",
          "data": {
            "text/plain": [
              "(2396, 150, 150, 2)"
            ]
          },
          "metadata": {},
          "execution_count": 20
        }
      ]
    },
    {
      "cell_type": "code",
      "source": [
        "y_pred = model.predict(X_test)\n",
        "y_pred\n",
        "\n"
      ],
      "metadata": {
        "id": "HW1v-ST7-4zz",
        "colab": {
          "base_uri": "https://localhost:8080/"
        },
        "outputId": "b727bdcd-09e0-4b86-d329-d6325d5c1874"
      },
      "execution_count": null,
      "outputs": [
        {
          "output_type": "stream",
          "name": "stdout",
          "text": [
            "\u001b[1m75/75\u001b[0m \u001b[32m━━━━━━━━━━━━━━━━━━━━\u001b[0m\u001b[37m\u001b[0m \u001b[1m3s\u001b[0m 27ms/step\n"
          ]
        },
        {
          "output_type": "execute_result",
          "data": {
            "text/plain": [
              "array([[2.1159104e-11, 3.1609411e-18, 5.6409344e-10, ..., 3.5835110e-10,\n",
              "        5.3490433e-12, 2.2900046e-08],\n",
              "       [2.9264809e-06, 9.3664327e-14, 4.1283527e-10, ..., 3.1327488e-12,\n",
              "        3.8784506e-10, 9.9935812e-01],\n",
              "       [3.0022625e-12, 3.3019095e-12, 2.1141092e-08, ..., 4.6748312e-09,\n",
              "        9.8955256e-01, 2.4381286e-08],\n",
              "       ...,\n",
              "       [1.7618919e-02, 3.8166570e-05, 3.6225125e-02, ..., 4.7483221e-01,\n",
              "        1.0545037e-02, 4.8440732e-02],\n",
              "       [1.0000000e+00, 2.6032374e-24, 7.3304078e-15, ..., 3.8486222e-19,\n",
              "        3.8983673e-22, 1.9615449e-12],\n",
              "       [9.9924207e-01, 5.7628413e-09, 4.3842455e-04, ..., 2.3073083e-07,\n",
              "        4.4506464e-06, 2.7953327e-04]], dtype=float32)"
            ]
          },
          "metadata": {},
          "execution_count": 21
        }
      ]
    },
    {
      "cell_type": "code",
      "source": [
        "y_pred.shape"
      ],
      "metadata": {
        "id": "NNRf2OZZ-4xB",
        "colab": {
          "base_uri": "https://localhost:8080/"
        },
        "outputId": "7737a7e0-0417-4136-a8bf-6f42ff9c9268"
      },
      "execution_count": null,
      "outputs": [
        {
          "output_type": "execute_result",
          "data": {
            "text/plain": [
              "(2396, 10)"
            ]
          },
          "metadata": {},
          "execution_count": 22
        }
      ]
    },
    {
      "cell_type": "code",
      "source": [
        "predicted_categories = np.argmax(y_pred,axis=1)\n",
        "predicted_categories"
      ],
      "metadata": {
        "id": "YdiZ301D-4mM",
        "colab": {
          "base_uri": "https://localhost:8080/"
        },
        "outputId": "3485f92e-26ac-4db7-e2bf-10376b662344"
      },
      "execution_count": null,
      "outputs": [
        {
          "output_type": "execute_result",
          "data": {
            "text/plain": [
              "array([4, 9, 8, ..., 7, 0, 0])"
            ]
          },
          "metadata": {},
          "execution_count": 23
        }
      ]
    },
    {
      "cell_type": "code",
      "source": [
        "Y_test.shape"
      ],
      "metadata": {
        "id": "ODR52KQZ_ft3",
        "colab": {
          "base_uri": "https://localhost:8080/"
        },
        "outputId": "e808a510-41c5-4bc0-8378-4c0f620e2160"
      },
      "execution_count": null,
      "outputs": [
        {
          "output_type": "execute_result",
          "data": {
            "text/plain": [
              "(2396, 10)"
            ]
          },
          "metadata": {},
          "execution_count": 24
        }
      ]
    },
    {
      "cell_type": "code",
      "source": [
        "true_categories = np.argmax(Y_test,axis=1)\n",
        "true_categories"
      ],
      "metadata": {
        "id": "mKslInVw_fiN",
        "colab": {
          "base_uri": "https://localhost:8080/"
        },
        "outputId": "e623e722-8747-4b8c-abce-9625f340ca0d"
      },
      "execution_count": null,
      "outputs": [
        {
          "output_type": "execute_result",
          "data": {
            "text/plain": [
              "array([4, 9, 8, ..., 4, 0, 0])"
            ]
          },
          "metadata": {},
          "execution_count": 25
        }
      ]
    },
    {
      "cell_type": "code",
      "source": [
        "classes"
      ],
      "metadata": {
        "id": "pjFKA91Y_fXP",
        "colab": {
          "base_uri": "https://localhost:8080/"
        },
        "outputId": "8a6ff004-5183-4b0d-d2f9-7f6e117834af"
      },
      "execution_count": null,
      "outputs": [
        {
          "output_type": "execute_result",
          "data": {
            "text/plain": [
              "['blues',\n",
              " 'classical',\n",
              " 'country',\n",
              " 'disco',\n",
              " 'hiphop',\n",
              " 'jazz',\n",
              " 'metal',\n",
              " 'pop',\n",
              " 'reggae',\n",
              " 'rock']"
            ]
          },
          "metadata": {},
          "execution_count": 26
        }
      ]
    },
    {
      "cell_type": "code",
      "source": [
        "from sklearn.metrics import confusion_matrix,classification_report\n",
        "cm = confusion_matrix(true_categories,predicted_categories)\n",
        "# Precision Recall F1score\n",
        "# print(classification_report(true_categories,predicted_categories,target_names=classes))\n",
        "\n",
        "\n",
        "# Find unique class labels from true_categories\n",
        "unique_labels = [str(label) for label in sorted(set(true_categories))]  # Ensure labels are strings  # Get unique labels in sorted order\n",
        "\n",
        "# Generate the classification report with correct labels\n",
        "print(classification_report(true_categories, predicted_categories, target_names=unique_labels))\n"
      ],
      "metadata": {
        "id": "4ZRKZfG2_occ",
        "colab": {
          "base_uri": "https://localhost:8080/"
        },
        "outputId": "ad7ce144-a7c5-4271-e57a-12fc7230b587"
      },
      "execution_count": null,
      "outputs": [
        {
          "output_type": "stream",
          "name": "stdout",
          "text": [
            "              precision    recall  f1-score   support\n",
            "\n",
            "           0       0.94      0.93      0.93       245\n",
            "           1       0.97      0.96      0.97       237\n",
            "           2       0.93      0.79      0.86       235\n",
            "           3       0.88      0.79      0.83       237\n",
            "           4       0.89      0.93      0.91       254\n",
            "           5       0.96      0.92      0.94       233\n",
            "           6       0.85      0.99      0.91       238\n",
            "           7       0.85      0.96      0.90       235\n",
            "           8       0.89      0.83      0.86       242\n",
            "           9       0.79      0.83      0.81       240\n",
            "\n",
            "    accuracy                           0.89      2396\n",
            "   macro avg       0.90      0.89      0.89      2396\n",
            "weighted avg       0.89      0.89      0.89      2396\n",
            "\n"
          ]
        }
      ]
    },
    {
      "cell_type": "code",
      "source": [
        "cm"
      ],
      "metadata": {
        "id": "7PtkbzRLBk7K",
        "colab": {
          "base_uri": "https://localhost:8080/"
        },
        "outputId": "0edea58c-86d0-434c-e1f4-fd2e800862b0"
      },
      "execution_count": null,
      "outputs": [
        {
          "output_type": "execute_result",
          "data": {
            "text/plain": [
              "array([[227,   0,   4,   1,   0,   1,   6,   0,   1,   5],\n",
              "       [  0, 228,   0,   0,   0,   4,   0,   1,   0,   4],\n",
              "       [  5,   2, 186,   9,   3,   2,   4,   1,  15,   8],\n",
              "       [  3,   1,   1, 187,   4,   1,  10,  13,   2,  15],\n",
              "       [  0,   0,   1,   2, 235,   0,   4,  10,   2,   0],\n",
              "       [  1,   1,   3,   0,   0, 214,   0,   2,   4,   8],\n",
              "       [  0,   0,   0,   0,   1,   0, 235,   0,   0,   2],\n",
              "       [  0,   0,   0,   1,   6,   0,   0, 225,   0,   3],\n",
              "       [  2,   1,   3,   7,  12,   0,   2,   5, 202,   8],\n",
              "       [  3,   1,   2,   5,   4,   2,  16,   7,   1, 199]])"
            ]
          },
          "metadata": {},
          "execution_count": 28
        }
      ]
    },
    {
      "cell_type": "code",
      "source": [
        "import seaborn as sns\n",
        "plt.figure(figsize=(15,15))\n",
        "sns.heatmap(cm,annot=True,annot_kws={\"size\":10})\n",
        "plt.xlabel(\"Predicted Class\",fontsize=10)\n",
        "plt.ylabel(\"Actual Class\",fontsize=10)\n",
        "plt.title(\"Music Genre Classification Confusion Matrix\",fontsize=15)\n",
        "plt.show()"
      ],
      "metadata": {
        "id": "CZvDHcOlBrRZ",
        "colab": {
          "base_uri": "https://localhost:8080/",
          "height": 1000
        },
        "outputId": "f54c2e44-837e-49e3-d67d-3db51313a3aa"
      },
      "execution_count": null,
      "outputs": [
        {
          "output_type": "display_data",
          "data": {
            "text/plain": [
              "<Figure size 1500x1500 with 2 Axes>"
            ],
            "image/png": "[encoded data removed]"
          },
          "metadata": {}
        }
      ]
    },
    {
      "cell_type": "code",
      "source": [
        "model.save('/content/drive/MyDrive/mfcc_mel/myModel_mfcc_mel_26_3.h5')\n",
        "\n"
      ],
      "metadata": {
        "colab": {
          "base_uri": "https://localhost:8080/"
        },
        "id": "pJmlu1XiBP6n",
        "outputId": "c6567d86-a58f-45e7-df79-940f6d3bc78c"
      },
      "execution_count": null,
      "outputs": [
        {
          "output_type": "stream",
          "name": "stderr",
          "text": [
            "WARNING:absl:You are saving your model as an HDF5 file via `model.save()` or `keras.saving.save_model(model)`. This file format is considered legacy. We recommend using instead the native Keras format, e.g. `model.save('my_model.keras')` or `keras.saving.save_model(model, 'my_model.keras')`. \n"
          ]
        }
      ]
    },
    {
      "cell_type": "code",
      "source": [
        "import json\n",
        "\n",
        "history_dict = training_history.history  # Convert history object to a dictionary\n",
        "history_json_path = \"/content/drive/My Drive/mfcc_mel/training_history26_3.json\"  # Change path if needed\n",
        "\n",
        "with open(history_json_path, 'w') as f:\n",
        "    json.dump(history_dict, f)\n"
      ],
      "metadata": {
        "id": "-L_zD87lBpH2"
      },
      "execution_count": null,
      "outputs": []
    },
    {
      "cell_type": "code",
      "source": [
        "#Visualization of Loss\n",
        "epochs = [i for i in range(1,21)]\n",
        "plt.plot(epochs,training_history.history['loss'],label=\"Training Loss\",color='green')\n",
        "plt.plot(epochs,training_history.history['val_loss'],label=\"Validation Loss\",color='blue')\n",
        "plt.xlabel(\"No. of Epochs\")\n",
        "plt.ylabel(\"Loss\")\n",
        "plt.title(\"Visualization of Loss Result\")\n",
        "plt.legend()\n",
        "plt.show()"
      ],
      "metadata": {
        "colab": {
          "base_uri": "https://localhost:8080/",
          "height": 472
        },
        "id": "I4n0kse1CP7n",
        "outputId": "bb72d2c1-0b36-4e5d-f005-b2330e452589"
      },
      "execution_count": null,
      "outputs": [
        {
          "output_type": "display_data",
          "data": {
            "text/plain": [
              "<Figure size 640x480 with 1 Axes>"
            ],
            "image/png": "[encoded data removed]"
          },
          "metadata": {}
        }
      ]
    },
    {
      "cell_type": "code",
      "source": [
        "#Visualization of Accuracy\n",
        "epochs = [i for i in range(1,21)]\n",
        "plt.plot(epochs,training_history.history['accuracy'],label=\"Training Accuracy\",color='green')\n",
        "plt.plot(epochs,training_history.history['val_accuracy'],label=\"Validation Accuracy\",color='blue')\n",
        "plt.xlabel(\"No. of Epochs\")\n",
        "plt.ylabel(\"Accuracy\")\n",
        "plt.title(\"Visualization of Accuracy Result\")\n",
        "plt.legend()\n",
        "plt.show()"
      ],
      "metadata": {
        "colab": {
          "base_uri": "https://localhost:8080/",
          "height": 472
        },
        "id": "7acDogIk8dTf",
        "outputId": "4dac3c6c-f4a8-445f-b0e6-f55755d53053"
      },
      "execution_count": null,
      "outputs": [
        {
          "output_type": "display_data",
          "data": {
            "text/plain": [
              "<Figure size 640x480 with 1 Axes>"
            ],
            "image/png": "[encoded data removed]"
          },
          "metadata": {}
        }
      ]
    },
    {
      "cell_type": "code",
      "source": [],
      "metadata": {
        "id": "uJqWXCtv8l6l"
      },
      "execution_count": null,
      "outputs": []
    }
  ]
}